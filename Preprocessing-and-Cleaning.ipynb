{
 "cells": [
  {
   "cell_type": "markdown",
   "metadata": {},
   "source": [
    "<h1> Data Preprocessing </h1>\n",
    "<hr>\n",
    "<h3> In this section we will first get a quick glimpse of the dataset that we are going to analyze and see how we can make it better and more efficient for further analysis </h3>\n",
    "<br><br>\n",
    "Let's start by importing the necessary libraries and the dataset we are going to work on. Since we have the 'InvoiceDate' attribute in an undesirable format, we fix it by formatting this date variable in our desired form.\n",
    "We also have some incorrect spellings and extra whitespaces in our strings that we would like to avoid and for the next steps we would like our strings to be in uppercase:"
   ]
  },
  {
   "cell_type": "code",
   "execution_count": 60,
   "metadata": {
    "scrolled": true
   },
   "outputs": [
    {
     "data": {
      "text/html": [
       "<div>\n",
       "<style scoped>\n",
       "    .dataframe tbody tr th:only-of-type {\n",
       "        vertical-align: middle;\n",
       "    }\n",
       "\n",
       "    .dataframe tbody tr th {\n",
       "        vertical-align: top;\n",
       "    }\n",
       "\n",
       "    .dataframe thead th {\n",
       "        text-align: right;\n",
       "    }\n",
       "</style>\n",
       "<table border=\"1\" class=\"dataframe\">\n",
       "  <thead>\n",
       "    <tr style=\"text-align: right;\">\n",
       "      <th></th>\n",
       "      <th>InvoiceNo</th>\n",
       "      <th>StockCode</th>\n",
       "      <th>Description</th>\n",
       "      <th>Quantity</th>\n",
       "      <th>InvoiceDate</th>\n",
       "      <th>UnitPrice</th>\n",
       "      <th>CustomerID</th>\n",
       "      <th>Country</th>\n",
       "    </tr>\n",
       "  </thead>\n",
       "  <tbody>\n",
       "    <tr>\n",
       "      <th>0</th>\n",
       "      <td>536365</td>\n",
       "      <td>85123A</td>\n",
       "      <td>WHITE HANGING HEART T-LIGHT HOLDER</td>\n",
       "      <td>6</td>\n",
       "      <td>12/1/2010 8:26</td>\n",
       "      <td>2.55</td>\n",
       "      <td>17850</td>\n",
       "      <td>United Kingdom</td>\n",
       "    </tr>\n",
       "    <tr>\n",
       "      <th>1</th>\n",
       "      <td>536365</td>\n",
       "      <td>71053</td>\n",
       "      <td>WHITE METAL LANTERN</td>\n",
       "      <td>6</td>\n",
       "      <td>12/1/2010 8:26</td>\n",
       "      <td>3.39</td>\n",
       "      <td>17850</td>\n",
       "      <td>United Kingdom</td>\n",
       "    </tr>\n",
       "    <tr>\n",
       "      <th>2</th>\n",
       "      <td>536365</td>\n",
       "      <td>84406B</td>\n",
       "      <td>CREAM CUPID HEARTS COAT HANGER</td>\n",
       "      <td>8</td>\n",
       "      <td>12/1/2010 8:26</td>\n",
       "      <td>2.75</td>\n",
       "      <td>17850</td>\n",
       "      <td>United Kingdom</td>\n",
       "    </tr>\n",
       "    <tr>\n",
       "      <th>3</th>\n",
       "      <td>536365</td>\n",
       "      <td>84029G</td>\n",
       "      <td>KNITTED UNION FLAG HOT WATER BOTTLE</td>\n",
       "      <td>6</td>\n",
       "      <td>12/1/2010 8:26</td>\n",
       "      <td>3.39</td>\n",
       "      <td>17850</td>\n",
       "      <td>United Kingdom</td>\n",
       "    </tr>\n",
       "    <tr>\n",
       "      <th>4</th>\n",
       "      <td>536365</td>\n",
       "      <td>84029E</td>\n",
       "      <td>RED WOOLLY HOTTIE WHITE HEART.</td>\n",
       "      <td>6</td>\n",
       "      <td>12/1/2010 8:26</td>\n",
       "      <td>3.39</td>\n",
       "      <td>17850</td>\n",
       "      <td>United Kingdom</td>\n",
       "    </tr>\n",
       "  </tbody>\n",
       "</table>\n",
       "</div>"
      ],
      "text/plain": [
       "  InvoiceNo StockCode                          Description  Quantity  \\\n",
       "0    536365    85123A   WHITE HANGING HEART T-LIGHT HOLDER         6   \n",
       "1    536365     71053                  WHITE METAL LANTERN         6   \n",
       "2    536365    84406B       CREAM CUPID HEARTS COAT HANGER         8   \n",
       "3    536365    84029G  KNITTED UNION FLAG HOT WATER BOTTLE         6   \n",
       "4    536365    84029E       RED WOOLLY HOTTIE WHITE HEART.         6   \n",
       "\n",
       "      InvoiceDate  UnitPrice  CustomerID         Country  \n",
       "0  12/1/2010 8:26       2.55       17850  United Kingdom  \n",
       "1  12/1/2010 8:26       3.39       17850  United Kingdom  \n",
       "2  12/1/2010 8:26       2.75       17850  United Kingdom  \n",
       "3  12/1/2010 8:26       3.39       17850  United Kingdom  \n",
       "4  12/1/2010 8:26       3.39       17850  United Kingdom  "
      ]
     },
     "execution_count": 60,
     "metadata": {},
     "output_type": "execute_result"
    }
   ],
   "source": [
    "import numpy as np, pandas as pd, re, scipy as sp, scipy.stats\n",
    "\n",
    "#Importing Dataset\n",
    "pd.options.mode.chained_assignment = None\n",
    "dataset = r'../Original-Dataset/Online Retail.csv'\n",
    "Data = pd.read_csv(dataset, dtype= {'CustomerID': 'Int64'})\n",
    "Data.head()"
   ]
  },
  {
   "cell_type": "code",
   "execution_count": 61,
   "metadata": {},
   "outputs": [
    {
     "data": {
      "text/html": [
       "<div>\n",
       "<style scoped>\n",
       "    .dataframe tbody tr th:only-of-type {\n",
       "        vertical-align: middle;\n",
       "    }\n",
       "\n",
       "    .dataframe tbody tr th {\n",
       "        vertical-align: top;\n",
       "    }\n",
       "\n",
       "    .dataframe thead th {\n",
       "        text-align: right;\n",
       "    }\n",
       "</style>\n",
       "<table border=\"1\" class=\"dataframe\">\n",
       "  <thead>\n",
       "    <tr style=\"text-align: right;\">\n",
       "      <th></th>\n",
       "      <th>InvoiceNo</th>\n",
       "      <th>StockCode</th>\n",
       "      <th>Description</th>\n",
       "      <th>Quantity</th>\n",
       "      <th>InvoiceDate</th>\n",
       "      <th>UnitPrice</th>\n",
       "      <th>CustomerID</th>\n",
       "      <th>Country</th>\n",
       "    </tr>\n",
       "  </thead>\n",
       "  <tbody>\n",
       "    <tr>\n",
       "      <th>0</th>\n",
       "      <td>536365</td>\n",
       "      <td>85123A</td>\n",
       "      <td>WHITE HANGING HEART T-LIGHT HOLDER</td>\n",
       "      <td>6</td>\n",
       "      <td>2010-12-01 08:26:00</td>\n",
       "      <td>2.55</td>\n",
       "      <td>17850</td>\n",
       "      <td>UNITED KINGDOM</td>\n",
       "    </tr>\n",
       "    <tr>\n",
       "      <th>1</th>\n",
       "      <td>536365</td>\n",
       "      <td>71053</td>\n",
       "      <td>WHITE METAL LANTERN</td>\n",
       "      <td>6</td>\n",
       "      <td>2010-12-01 08:26:00</td>\n",
       "      <td>3.39</td>\n",
       "      <td>17850</td>\n",
       "      <td>UNITED KINGDOM</td>\n",
       "    </tr>\n",
       "    <tr>\n",
       "      <th>2</th>\n",
       "      <td>536365</td>\n",
       "      <td>84406B</td>\n",
       "      <td>CREAM CUPID HEARTS COAT HANGER</td>\n",
       "      <td>8</td>\n",
       "      <td>2010-12-01 08:26:00</td>\n",
       "      <td>2.75</td>\n",
       "      <td>17850</td>\n",
       "      <td>UNITED KINGDOM</td>\n",
       "    </tr>\n",
       "    <tr>\n",
       "      <th>3</th>\n",
       "      <td>536365</td>\n",
       "      <td>84029G</td>\n",
       "      <td>KNITTED UNION FLAG HOT WATER BOTTLE</td>\n",
       "      <td>6</td>\n",
       "      <td>2010-12-01 08:26:00</td>\n",
       "      <td>3.39</td>\n",
       "      <td>17850</td>\n",
       "      <td>UNITED KINGDOM</td>\n",
       "    </tr>\n",
       "    <tr>\n",
       "      <th>4</th>\n",
       "      <td>536365</td>\n",
       "      <td>84029E</td>\n",
       "      <td>RED WOOLLY HOTTIE WHITE HEART</td>\n",
       "      <td>6</td>\n",
       "      <td>2010-12-01 08:26:00</td>\n",
       "      <td>3.39</td>\n",
       "      <td>17850</td>\n",
       "      <td>UNITED KINGDOM</td>\n",
       "    </tr>\n",
       "  </tbody>\n",
       "</table>\n",
       "</div>"
      ],
      "text/plain": [
       "  InvoiceNo StockCode                          Description  Quantity  \\\n",
       "0    536365    85123A   WHITE HANGING HEART T-LIGHT HOLDER         6   \n",
       "1    536365     71053                  WHITE METAL LANTERN         6   \n",
       "2    536365    84406B       CREAM CUPID HEARTS COAT HANGER         8   \n",
       "3    536365    84029G  KNITTED UNION FLAG HOT WATER BOTTLE         6   \n",
       "4    536365    84029E        RED WOOLLY HOTTIE WHITE HEART         6   \n",
       "\n",
       "          InvoiceDate  UnitPrice  CustomerID         Country  \n",
       "0 2010-12-01 08:26:00       2.55       17850  UNITED KINGDOM  \n",
       "1 2010-12-01 08:26:00       3.39       17850  UNITED KINGDOM  \n",
       "2 2010-12-01 08:26:00       2.75       17850  UNITED KINGDOM  \n",
       "3 2010-12-01 08:26:00       3.39       17850  UNITED KINGDOM  \n",
       "4 2010-12-01 08:26:00       3.39       17850  UNITED KINGDOM  "
      ]
     },
     "execution_count": 61,
     "metadata": {},
     "output_type": "execute_result"
    }
   ],
   "source": [
    "#Formatting Date/Time\n",
    "Data['InvoiceDate'] = pd.to_datetime(Data['InvoiceDate'], format = '%m/%d/%Y %H:%M', box = False)\n",
    "\n",
    "#Strings\n",
    "Data['Description'] = Data['Description'].str.replace('.','').str.upper().str.strip()\n",
    "Data['Description'] = Data['Description'].replace('\\s+',' ',regex = True)\n",
    "Data['InvoiceNo'] = Data['InvoiceNo'].astype(str).str.upper()\n",
    "Data['StockCode'] = Data['StockCode'].str.upper()\n",
    "Data['Country'] = Data['Country'].str.upper()\n",
    "Data.head()"
   ]
  },
  {
   "cell_type": "code",
   "execution_count": 67,
   "metadata": {},
   "outputs": [
    {
     "name": "stdout",
     "output_type": "stream",
     "text": [
      "Irrelevant Transactions: \n",
      " ['S' 'POST' 'PADS' 'M']\n"
     ]
    },
    {
     "data": {
      "text/html": [
       "<div>\n",
       "<style scoped>\n",
       "    .dataframe tbody tr th:only-of-type {\n",
       "        vertical-align: middle;\n",
       "    }\n",
       "\n",
       "    .dataframe tbody tr th {\n",
       "        vertical-align: top;\n",
       "    }\n",
       "\n",
       "    .dataframe thead th {\n",
       "        text-align: right;\n",
       "    }\n",
       "</style>\n",
       "<table border=\"1\" class=\"dataframe\">\n",
       "  <thead>\n",
       "    <tr style=\"text-align: right;\">\n",
       "      <th></th>\n",
       "      <th>Quantity</th>\n",
       "      <th>UnitPrice</th>\n",
       "    </tr>\n",
       "  </thead>\n",
       "  <tbody>\n",
       "    <tr>\n",
       "      <th>count</th>\n",
       "      <td>541909.000000</td>\n",
       "      <td>541909.000000</td>\n",
       "    </tr>\n",
       "    <tr>\n",
       "      <th>mean</th>\n",
       "      <td>9.552250</td>\n",
       "      <td>4.611114</td>\n",
       "    </tr>\n",
       "    <tr>\n",
       "      <th>std</th>\n",
       "      <td>218.081158</td>\n",
       "      <td>96.759853</td>\n",
       "    </tr>\n",
       "    <tr>\n",
       "      <th>min</th>\n",
       "      <td>-80995.000000</td>\n",
       "      <td>-11062.060000</td>\n",
       "    </tr>\n",
       "    <tr>\n",
       "      <th>25%</th>\n",
       "      <td>1.000000</td>\n",
       "      <td>1.250000</td>\n",
       "    </tr>\n",
       "    <tr>\n",
       "      <th>50%</th>\n",
       "      <td>3.000000</td>\n",
       "      <td>2.080000</td>\n",
       "    </tr>\n",
       "    <tr>\n",
       "      <th>75%</th>\n",
       "      <td>10.000000</td>\n",
       "      <td>4.130000</td>\n",
       "    </tr>\n",
       "    <tr>\n",
       "      <th>max</th>\n",
       "      <td>80995.000000</td>\n",
       "      <td>38970.000000</td>\n",
       "    </tr>\n",
       "  </tbody>\n",
       "</table>\n",
       "</div>"
      ],
      "text/plain": [
       "            Quantity      UnitPrice\n",
       "count  541909.000000  541909.000000\n",
       "mean        9.552250       4.611114\n",
       "std       218.081158      96.759853\n",
       "min    -80995.000000  -11062.060000\n",
       "25%         1.000000       1.250000\n",
       "50%         3.000000       2.080000\n",
       "75%        10.000000       4.130000\n",
       "max     80995.000000   38970.000000"
      ]
     },
     "execution_count": 67,
     "metadata": {},
     "output_type": "execute_result"
    }
   ],
   "source": [
    "#Listing Some Irrelevant StockCodes\n",
    "Irrelevant = Data['StockCode'].unique()\n",
    "Irrelevant.sort()\n",
    "print('Irrelevant Transactions: \\n',Irrelevant[::-1][:4])\n",
    "#Quantity and UnitPrice Summary\n",
    "Data.describe().iloc[:,:2]"
   ]
  },
  {
   "cell_type": "markdown",
   "metadata": {},
   "source": [
    "As it is obvious in the summary of our dataset, we have some odd and irregular values in the 'UnitPrice' and 'Quantity' columns that we will find and remove to prevent them from negatively affect our analysis. In the 'StockCode' variable we can see that some of the transaction are not actually products, but they are some costs or fees regarding to the post or bank or other tansactions that we don't really need in our data."
   ]
  },
  {
   "cell_type": "code",
   "execution_count": 68,
   "metadata": {},
   "outputs": [],
   "source": [
    "#Outliers and Irrelevant Values\n",
    "#Dropping all stockcodes that contain only strings\n",
    "CodeTypes = list(map(lambda codes: any(char.isdigit() for char in codes), Data['StockCode']))\n",
    "IrrelevantCodes = [i for i,v in enumerate(CodeTypes) if v == False]\n",
    "Data.drop(IrrelevantCodes , inplace = True)\n",
    "#Removing Outliers Based on Z-score\n",
    "Data = Data[(np.abs(sp.stats.zscore(Data['UnitPrice']))<3) & (np.abs(sp.stats.zscore(Data['Quantity']))<5)]"
   ]
  },
  {
   "cell_type": "markdown",
   "metadata": {},
   "source": [
    "We know that some of these transactions contains returned products and in those transaction the 'InvoiceNo' contains a 'c' character in the beginning and the 'UnitPrice' should have a negative value. But in our data we have purchases that have negative 'UnitPrice' and vice versa and we need to remove these errors. There are also some touples in which the 'UnitPrice' is not specified.\n",
    "\n",
    "In the 'Description' attribute there are a lot of missing or incorrect values. In order to fix this problem, we will remove the transactions that have no available description at all and for the other missing values we check the 'Description' based on the product 'StockCode' and fill the missing values with the correct 'Description' that is available from the other transactions of the same 'StockCode'."
   ]
  },
  {
   "cell_type": "code",
   "execution_count": 69,
   "metadata": {},
   "outputs": [],
   "source": [
    "# Missing & Incorrect Values\n",
    "Data.drop(Data[(Data.Quantity>0) & (Data.InvoiceNo.str.contains('C') == True)].index, inplace = True)\n",
    "Data.drop(Data[(Data.Quantity<0) & (Data.InvoiceNo.str.contains('C') == False)].index, inplace = True)\n",
    "Data.drop(Data[Data.Description.str.contains('?',regex=False) == True].index, inplace = True)\n",
    "Data.drop(Data[Data.UnitPrice == 0].index, inplace = True)\n",
    "\n",
    "for index,value in Data.StockCode[Data.Description.isna()==True].items():\n",
    "    if pd.notna(Data.Description[Data.StockCode == value]).sum() != 0:\n",
    "        Data.Description[index] = Data.Description[Data.StockCode == value].mode()[0]\n",
    "    else:\n",
    "        Data.drop(index = index, inplace = True)\n",
    "        \n",
    "Data['Description'] = Data['Description'].astype(str)"
   ]
  },
  {
   "cell_type": "markdown",
   "metadata": {},
   "source": [
    "In this dataset, there are some rows that the same products have different 'UnitPrice'. This could come from the fact that there might be some discounts for some products or some special conditions for specific customers. We can also see that for the same customer we have two different price on two different days or different prices for different customer on the same day. So for the sake of this demonstration, we assume that these values are incorrect due to input errors or human mistakes and for each product we use the mode value of its 'UnitPrice'."
   ]
  },
  {
   "cell_type": "code",
   "execution_count": 71,
   "metadata": {},
   "outputs": [],
   "source": [
    "#Incorrect Prices\n",
    "StockList = Data.StockCode.unique()\n",
    "CalculatedMode = map(lambda x: Data.UnitPrice[Data.StockCode == x].mode()[0],StockList)\n",
    "StockModes = list(CalculatedMode)\n",
    "for i,v in enumerate(StockList):\n",
    "    Data.loc[Data['StockCode']== v, 'UnitPrice'] = StockModes[i]"
   ]
  },
  {
   "cell_type": "markdown",
   "metadata": {},
   "source": [
    "At last, we would like to add useful features for future analysis. The features that we will add for now are Final price of each transaction and the month and the day of the week in which the transaction took place, that we can take from the 'InvoiceDate' attribute.\n",
    "\n",
    "\n",
    "There are also some incorrect customer IDs that for two different countries we have the same customer ID. We will fix the duplicate values by grouping the dataframe by 'CustomerID' and if any customer belongs to more than two countries, we replace the incorrect value with the mode value of the customer's country."
   ]
  },
  {
   "cell_type": "code",
   "execution_count": 90,
   "metadata": {},
   "outputs": [
    {
     "data": {
      "text/plain": [
       "CustomerID\n",
       "12370           [CYPRUS, AUSTRIA]\n",
       "12394          [BELGIUM, DENMARK]\n",
       "12417            [BELGIUM, SPAIN]\n",
       "12422    [AUSTRALIA, SWITZERLAND]\n",
       "12429          [DENMARK, AUSTRIA]\n",
       "12431        [AUSTRALIA, BELGIUM]\n",
       "12455             [CYPRUS, SPAIN]\n",
       "12457       [SWITZERLAND, CYPRUS]\n",
       "Name: Country, dtype: object"
      ]
     },
     "execution_count": 90,
     "metadata": {},
     "output_type": "execute_result"
    }
   ],
   "source": [
    "#Customers with Different Countries\n",
    "Customers = Data.groupby('CustomerID')['Country'].unique()\n",
    "Customers.loc[Customers.apply(lambda x:len(x)>1)]"
   ]
  },
  {
   "cell_type": "code",
   "execution_count": 91,
   "metadata": {},
   "outputs": [],
   "source": [
    "#Fixing Duplicate CustomerIDs\n",
    "for i,v in Data.groupby('CustomerID')['Country'].unique().items():\n",
    "    if len(v)>1:\n",
    "        Data.Country[Data['CustomerID'] == i] = Data.Country[Data['CustomerID'] == i].mode()[0]\n",
    "\n",
    "#Adding Desired Features\n",
    "Data['FinalPrice'] = Data['Quantity']*Data['UnitPrice']\n",
    "Data['InvoiceMonth'] = Data['InvoiceDate'].apply(lambda x: x.strftime('%B'))\n",
    "Data['Day of week'] = Data['InvoiceDate'].dt.day_name()\n",
    "\n",
    "#Exporting Processed Data\n",
    "Data.to_csv(r'../Cleaned-Dataset/OnlineRetail_Cleaned.csv', date_format = '%Y-%m-%d %H:%M', index = False)"
   ]
  }
 ],
 "metadata": {
  "kernelspec": {
   "display_name": "Python 3",
   "language": "python",
   "name": "python3"
  },
  "language_info": {
   "codemirror_mode": {
    "name": "ipython",
    "version": 3
   },
   "file_extension": ".py",
   "mimetype": "text/x-python",
   "name": "python",
   "nbconvert_exporter": "python",
   "pygments_lexer": "ipython3",
   "version": "3.7.2"
  }
 },
 "nbformat": 4,
 "nbformat_minor": 2
}
